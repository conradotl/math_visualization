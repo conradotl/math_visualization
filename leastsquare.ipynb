{
 "cells": [
  {
   "cell_type": "code",
   "execution_count": 2,
   "id": "27f09f4d",
   "metadata": {},
   "outputs": [],
   "source": [
    "import numpy as np\n",
    "import matplotlib.pyplot as plt"
   ]
  },
  {
   "cell_type": "code",
   "execution_count": 93,
   "id": "adc99d8f",
   "metadata": {},
   "outputs": [
    {
     "data": {
      "image/png": "[encoded data removed]",
      "text/plain": [
       "<Figure size 432x288 with 1 Axes>"
      ]
     },
     "metadata": {
      "needs_background": "light"
     },
     "output_type": "display_data"
    }
   ],
   "source": [
    "# dados simulados\n",
    "# x é uma conjunto aleatório de 100 pontos com distribuição normal de meida 0 e desvio padrao 1\n",
    "x = np.random.normal(0,1,100)\n",
    "# y = 10 + 10*x + erro (ruido de média 0 com um desvio padrão de 10) \n",
    "y = 10 + 10*x + np.random.normal(0,10,len(x))\n",
    "# exibe um diagrama de dispersão de x e y\n",
    "plt.scatter(x,y);"
   ]
  },
  {
   "cell_type": "markdown",
   "id": "57d45bd2",
   "metadata": {},
   "source": [
    "A relação entre x e y pode ser escrita por uma equação ideal: <br>\n",
    "y = $\\beta$$_0$ + ( x * $\\beta$$_1$ ) <br>"
   ]
  },
  {
   "cell_type": "markdown",
   "id": "3ba2f8cc",
   "metadata": {},
   "source": [
    "Na prática podemos montar um sistema de equações com os dados empiricos (nossos dados simulados):<br><br>\n",
    "$\\;$ 4,198 = 1 * $\\beta$$_0$ + (-0,332 * $\\beta$$_1$ ) <br>\n",
    "23,890 = 1 * $\\beta$$_0$ + ( 1,003 * $\\beta$$_1$ ) <br>\n",
    "$\\;$ 0,061 = 1 * $\\beta$$_0$ + (-0,699 * $\\beta$$_1$ ) <br>\n",
    "$\\;\\;\\;\\;\\;\\;\\;\\;\\;\\;\\;\\;\\;$... <br>\n",
    "22,419 = 1 * $\\beta$$_0$ + (1,409 * $\\beta$$_1$ ) <br><br>\n",
    "Nenhum valor de $\\beta$$_0$ e $\\beta$$_1$ resolve todas as equações <br>\n",
    "Mas qual valor fixo de $\\beta$$_0$ e $\\beta$$_1$ diminui o erro total do sistema de equações?"
   ]
  },
  {
   "cell_type": "markdown",
   "id": "dc99e71c",
   "metadata": {},
   "source": [
    "Podemos empacotar o sistema de equações em matrizes: <br><br>\n",
    "y = A * $\\beta$  <br><br>\n",
    "onde y é um vetor com os valores de y:<br>"
   ]
  },
  {
   "cell_type": "code",
   "execution_count": 94,
   "id": "0f5c4aa9",
   "metadata": {},
   "outputs": [
    {
     "data": {
      "text/plain": [
       "array([-5.48997419,  9.15546829,  6.89489865, 29.57143517,  8.1642013 ])"
      ]
     },
     "execution_count": 94,
     "metadata": {},
     "output_type": "execute_result"
    }
   ],
   "source": [
    "y[:5] # vamos ver os primeiros 5 valores de y para entender melhor"
   ]
  },
  {
   "cell_type": "markdown",
   "id": "bcf2fa87",
   "metadata": {},
   "source": [
    "a matrix A são os valores que multiplicam $\\beta$$_0$ e $\\beta$$_1$ em cada equação do sistema, <br>\n"
   ]
  },
  {
   "cell_type": "code",
   "execution_count": 95,
   "id": "8806ad19",
   "metadata": {},
   "outputs": [
    {
     "data": {
      "text/plain": [
       "array([[ 1.        , -1.02358774],\n",
       "       [ 1.        , -1.11109591],\n",
       "       [ 1.        ,  0.97078761],\n",
       "       [ 1.        ,  0.69873017],\n",
       "       [ 1.        ,  0.35052676]])"
      ]
     },
     "execution_count": 95,
     "metadata": {},
     "output_type": "execute_result"
    }
   ],
   "source": [
    "A = np.vstack( [np.ones(len(x)), x] ).T\n",
    "A[:5] # vamos olhar os 5 primeiros valores para entender o que é a matrix A"
   ]
  },
  {
   "cell_type": "markdown",
   "id": "f3870a6b",
   "metadata": {},
   "source": [
    "e o vetor $\\beta$$_0$ armazena os coeficientes que desejamos calcular [$\\beta$$_0$ , $\\beta$$_1$]."
   ]
  },
  {
   "cell_type": "markdown",
   "id": "bc6e6979",
   "metadata": {},
   "source": [
    "Podemos reorganizar a equação da seguinte forma: <br><br>\n",
    "y = A * $\\beta$ <br>\n",
    "A$^T$. y = (A$^T$. A) . $\\beta$ <br>\n",
    "(A$^T$. y).(A$^T$. A)$^I$ =  $\\beta$ <br><br>\n",
    "onde $^T$ indica a transposta e $^I$ indica a inversa da matrix indicada.\n"
   ]
  },
  {
   "cell_type": "code",
   "execution_count": 96,
   "id": "27148044",
   "metadata": {},
   "outputs": [
    {
     "data": {
      "text/plain": [
       "array([11.04675176, 10.69804184])"
      ]
     },
     "execution_count": 96,
     "metadata": {},
     "output_type": "execute_result"
    }
   ],
   "source": [
    "# em codigo, temos o seguinte (dividido em etapas para ser mais simples de visualizar):\n",
    "operacao1 = np.dot(A.T , y) # produto vetorial de A transposta e y\n",
    "operacao2 = np.dot(A.T , A) # produto vetorial de A e a sua transposta\n",
    "beta =  np.dot( operacao1, np.linalg.inv(operacao2)) # produto vetorial da operacao1 e da inversa da operacao2\n",
    "beta"
   ]
  },
  {
   "cell_type": "markdown",
   "id": "736f1b96",
   "metadata": {},
   "source": [
    "O resultado encontrado indica os valores de $\\beta$$_0$ e $\\beta$$_1$ que minimizam o erro da nossa equação ideal <br>\n",
    "Com esses valores é possivel, por exemplo, estimar os valores de y bom base nos valores de x"
   ]
  },
  {
   "cell_type": "code",
   "execution_count": 102,
   "id": "1717dc0d",
   "metadata": {},
   "outputs": [
    {
     "data": {
      "text/plain": [
       "<matplotlib.collections.PathCollection at 0x1bb32f2b910>"
      ]
     },
     "execution_count": 102,
     "metadata": {},
     "output_type": "execute_result"
    },
    {
     "data": {
      "image/png": "[encoded data removed]",
      "text/plain": [
       "<Figure size 432x288 with 1 Axes>"
      ]
     },
     "metadata": {
      "needs_background": "light"
     },
     "output_type": "display_data"
    }
   ],
   "source": [
    "# estima os valores de y usando a equação\n",
    "estimativa_y = 1 * beta[0] + x *beta[1]\n",
    "# visualiza a estimativa junto aos valores medidos\n",
    "plt.scatter(x,y)\n",
    "plt.scatter(x,estimativa_y)"
   ]
  },
  {
   "cell_type": "code",
   "execution_count": 160,
   "id": "f3b7c1aa",
   "metadata": {},
   "outputs": [
    {
     "data": {
      "image/png": "[encoded data removed]",
      "text/plain": [
       "<Figure size 432x288 with 1 Axes>"
      ]
     },
     "metadata": {
      "needs_background": "light"
     },
     "output_type": "display_data"
    }
   ],
   "source": [
    "a1,b1=50,0\n",
    "a2,b2=-5,10\n",
    "a3,b3=-100,100\n",
    "\n",
    "y1=a1*x + b1\n",
    "y2=a2*x + b2\n",
    "y3=a3*x + b3\n",
    "\n",
    "plt.plot(x,y1,label='line1')\n",
    "plt.plot(x,y2,label='line2')\n",
    "plt.plot(x,y3,label='line3')\n",
    "plt.legend();"
   ]
  }
 ],
 "metadata": {
  "kernelspec": {
   "display_name": "Python 3 (ipykernel)",
   "language": "python",
   "name": "python3"
  },
  "language_info": {
   "codemirror_mode": {
    "name": "ipython",
    "version": 3
   },
   "file_extension": ".py",
   "mimetype": "text/x-python",
   "name": "python",
   "nbconvert_exporter": "python",
   "pygments_lexer": "ipython3",
   "version": "3.9.7"
  }
 },
 "nbformat": 4,
 "nbformat_minor": 5
}
